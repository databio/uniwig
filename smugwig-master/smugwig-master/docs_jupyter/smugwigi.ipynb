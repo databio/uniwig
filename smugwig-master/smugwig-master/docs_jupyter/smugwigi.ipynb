{
 "cells": [
  {
   "cell_type": "markdown",
   "metadata": {},
   "source": [
    "# Smugwig internal demo\n",
    "\n",
    "This tutorial shows how `smugwigi` works. It's a shell command provided by the smugwig package intended to be run internally (notice the *i* at the end, which separates this from `smugwig`, the command intended to be run by the user.\n",
    "\n",
    "The `smugwigi` command takes as input a sorted list of integegers, with each integer representing the site of interest. Smugwigi will then convert this \"site list\" into wiggle format.\n",
    "\n",
    "Below are examples of `smugwigi` operating in each of its 4 modes:"
   ]
  },
  {
   "cell_type": "markdown",
   "metadata": {},
   "source": [
    "# Mode: exact; Step: fixed"
   ]
  },
  {
   "cell_type": "code",
   "execution_count": 7,
   "metadata": {},
   "outputs": [
    {
     "name": "stdout",
     "output_type": "stream",
     "text": [
      "header\n",
      "0\n",
      "0\n",
      "0\n",
      "1\n",
      "0\n",
      "0\n",
      "0\n",
      "3\n",
      "0\n",
      "0\n",
      "0\n",
      "1\n",
      "0\n",
      "0\n",
      "0\n"
     ]
    }
   ],
   "source": [
    "echo -e \"header\\n4\\n8\\n8\\n8\\n12\\n\"  | smugwigi --mode exact --step-type fixed --chromsize 15"
   ]
  },
  {
   "cell_type": "markdown",
   "metadata": {},
   "source": [
    "# Mode: exact; Step: variable"
   ]
  },
  {
   "cell_type": "code",
   "execution_count": 9,
   "metadata": {},
   "outputs": [
    {
     "name": "stdout",
     "output_type": "stream",
     "text": [
      "header\n",
      "4\t1\n",
      "8\t3\n",
      "12\t1\n"
     ]
    }
   ],
   "source": [
    "echo -e \"header\\n4\\n8\\n8\\n8\\n12\\n\"  | smugwigi --mode exact --step-type variable"
   ]
  },
  {
   "cell_type": "markdown",
   "metadata": {},
   "source": [
    "# Mode: smooth; Step: fixed"
   ]
  },
  {
   "cell_type": "code",
   "execution_count": 6,
   "metadata": {},
   "outputs": [
    {
     "name": "stdout",
     "output_type": "stream",
     "text": [
      "header\n",
      "0\n",
      "0\n",
      "1\n",
      "1\n",
      "1\n",
      "0\n",
      "3\n",
      "3\n",
      "3\n",
      "0\n",
      "1\n",
      "1\n",
      "1\n",
      "0\n",
      "0\n"
     ]
    }
   ],
   "source": [
    "echo -e \"header\\n4\\n8\\n8\\n8\\n12\\n\"  | smugwigi --mode smooth --step-type fixed --chromsize 15 --smooth-length 1"
   ]
  },
  {
   "cell_type": "code",
   "execution_count": 14,
   "metadata": {},
   "outputs": [
    {
     "name": "stdout",
     "output_type": "stream",
     "text": [
      "header\n",
      "1\n",
      "1\n",
      "4\n",
      "4\n",
      "4\n",
      "4\n",
      "5\n",
      "5\n",
      "5\n",
      "4\n",
      "4\n",
      "4\n",
      "4\n",
      "1\n",
      "1\n"
     ]
    }
   ],
   "source": [
    "echo -e \"header\\n4\\n8\\n8\\n8\\n12\\n\"  | smugwigi --mode smooth --step-type fixed --chromsize 15 --smooth-length 5"
   ]
  },
  {
   "cell_type": "code",
   "execution_count": null,
   "metadata": {},
   "outputs": [],
   "source": []
  },
  {
   "cell_type": "markdown",
   "metadata": {},
   "source": [
    "# Mode: smooth; Step: variable"
   ]
  },
  {
   "cell_type": "code",
   "execution_count": 5,
   "metadata": {},
   "outputs": [
    {
     "name": "stdout",
     "output_type": "stream",
     "text": [
      "header\n",
      "3\t1\n",
      "4\t1\n",
      "5\t1\n",
      "7\t3\n",
      "8\t3\n",
      "9\t3\n",
      "11\t1\n",
      "12\t1\n",
      "13\t1\n"
     ]
    }
   ],
   "source": [
    "echo -e \"header\\n4\\n8\\n8\\n8\\n12\\n\"  | smugwigi --mode smooth --step-type variable --smooth-length 1"
   ]
  },
  {
   "cell_type": "code",
   "execution_count": 15,
   "metadata": {},
   "outputs": [
    {
     "name": "stdout",
     "output_type": "stream",
     "text": [
      "header\n",
      "1\t1\n",
      "2\t1\n",
      "3\t4\n",
      "4\t4\n",
      "5\t4\n",
      "6\t4\n",
      "7\t5\n",
      "8\t5\n",
      "9\t5\n",
      "10\t4\n",
      "11\t4\n",
      "12\t4\n",
      "13\t4\n",
      "14\t1\n",
      "15\t1\n"
     ]
    }
   ],
   "source": [
    "echo -e \"header\\n4\\n8\\n8\\n8\\n12\\n\"  | smugwigi --mode smooth --step-type variable --smooth-length 5 --chromsize 15"
   ]
  }
 ],
 "metadata": {
  "kernelspec": {
   "display_name": "Bash",
   "language": "bash",
   "name": "bash"
  },
  "language_info": {
   "codemirror_mode": "shell",
   "file_extension": ".sh",
   "mimetype": "text/x-sh",
   "name": "bash"
  }
 },
 "nbformat": 4,
 "nbformat_minor": 2
}
